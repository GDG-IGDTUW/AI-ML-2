{
  "nbformat": 4,
  "nbformat_minor": 0,
  "metadata": {
    "colab": {
      "provenance": []
    },
    "kernelspec": {
      "name": "python3",
      "display_name": "Python 3"
    },
    "language_info": {
      "name": "python"
    }
  },
  "cells": [
    {
      "cell_type": "code",
      "execution_count": 2,
      "metadata": {
        "id": "oadMRQsbe8pf"
      },
      "outputs": [],
      "source": [
        "import pandas as pd\n",
        "from sklearn.model_selection import train_test_split\n",
        "from sklearn.preprocessing import StandardScaler"
      ]
    },
    {
      "cell_type": "code",
      "source": [
        "bank_data=pd.read_csv('UniversalBank.csv')\n",
        "print(bank_data.head())"
      ],
      "metadata": {
        "colab": {
          "base_uri": "https://localhost:8080/"
        },
        "id": "WbsX7AuEgp__",
        "outputId": "7cbcf85e-58fe-45c4-b960-a63916362eb1"
      },
      "execution_count": 5,
      "outputs": [
        {
          "output_type": "stream",
          "name": "stdout",
          "text": [
            "   ID  Age  Experience  Income  ZIP Code  Family  CCAvg  Education  Mortgage  \\\n",
            "0   1   25           1      49     91107       4    1.6          1         0   \n",
            "1   2   45          19      34     90089       3    1.5          1         0   \n",
            "2   3   39          15      11     94720       1    1.0          1         0   \n",
            "3   4   35           9     100     94112       1    2.7          2         0   \n",
            "4   5   35           8      45     91330       4    1.0          2         0   \n",
            "\n",
            "   Personal Loan  Securities Account  CD Account  Online  CreditCard  \n",
            "0              0                   1           0       0           0  \n",
            "1              0                   1           0       0           0  \n",
            "2              0                   0           0       0           0  \n",
            "3              0                   0           0       0           0  \n",
            "4              0                   0           0       0           1  \n"
          ]
        }
      ]
    },
    {
      "cell_type": "code",
      "source": [
        "bank_data = bank_data.drop(columns=['ID', 'ZIP Code'], errors='ignore')"
      ],
      "metadata": {
        "id": "rahUgUIKgqCn"
      },
      "execution_count": 8,
      "outputs": []
    },
    {
      "cell_type": "code",
      "source": [
        "x = bank_data.drop('Personal Loan', axis=1)\n",
        "y = bank_data['Personal Loan']"
      ],
      "metadata": {
        "id": "NO9O07vxgqFP"
      },
      "execution_count": 9,
      "outputs": []
    },
    {
      "cell_type": "code",
      "source": [
        "x_train, x_test, y_train, y_test = train_test_split(x, y, test_size=0.3, random_state=42)"
      ],
      "metadata": {
        "id": "ECOFueEtgqIq"
      },
      "execution_count": 10,
      "outputs": []
    },
    {
      "cell_type": "code",
      "source": [
        "print(\"x_train:\", x_train.shape)\n",
        "print(\"x_test:\", x_test.shape)\n",
        "print(\"y_train:\", y_train.shape)\n",
        "print(\"y_test:\", y_test.shape)\n",
        "\n",
        "print(\"\\nFirst 5 rows of X_train:\")\n",
        "print(x_train.head())\n",
        "\n",
        "print(\"\\nFirst 5 rows of X_test:\")\n",
        "print(x_test.head())\n"
      ],
      "metadata": {
        "colab": {
          "base_uri": "https://localhost:8080/"
        },
        "id": "ZXG7qvW-jP15",
        "outputId": "6187f1dc-c678-4a05-b6a4-99144450252c"
      },
      "execution_count": 11,
      "outputs": [
        {
          "output_type": "stream",
          "name": "stdout",
          "text": [
            "x_train: (3500, 11)\n",
            "x_test: (1500, 11)\n",
            "y_train: (3500,)\n",
            "y_test: (1500,)\n",
            "\n",
            "First 5 rows of X_train:\n",
            "      Age  Experience  Income  Family  CCAvg  Education  Mortgage  \\\n",
            "1840   55          25      23       4    0.4          3        88   \n",
            "2115   57          31      30       3    1.4          1         0   \n",
            "4437   63          38      63       2    1.5          1         0   \n",
            "1146   31           7      71       1    0.1          1        78   \n",
            "2486   61          36     130       1    1.3          1       257   \n",
            "\n",
            "      Securities Account  CD Account  Online  CreditCard  \n",
            "1840                   0           0       0           0  \n",
            "2115                   0           0       0           0  \n",
            "4437                   0           0       1           0  \n",
            "1146                   1           0       0           0  \n",
            "2486                   0           0       0           0  \n",
            "\n",
            "First 5 rows of X_test:\n",
            "      Age  Experience  Income  Family  CCAvg  Education  Mortgage  \\\n",
            "1501   30           4      35       2    0.3          2         0   \n",
            "2586   47          23     149       4    6.1          1         0   \n",
            "2653   30           5     121       2    3.1          1       408   \n",
            "1055   31           6      62       1    1.0          1         0   \n",
            "705    62          36      30       3    0.7          2         0   \n",
            "\n",
            "      Securities Account  CD Account  Online  CreditCard  \n",
            "1501                   1           0       0           1  \n",
            "2586                   0           0       0           1  \n",
            "2653                   0           0       1           0  \n",
            "1055                   1           0       1           0  \n",
            "705                    0           0       1           0  \n"
          ]
        }
      ]
    },
    {
      "cell_type": "code",
      "source": [
        "scaler = StandardScaler()\n",
        "x_train_scaled = scaler.fit_transform(x_train)\n",
        "x_test_scaled = scaler.transform(x_test)\n",
        "#converting to dataframe\n",
        "x_train_scaled = pd.DataFrame(x_train_scaled, columns=x.columns)\n",
        "x_test_scaled = pd.DataFrame(x_test_scaled, columns=x.columns)"
      ],
      "metadata": {
        "id": "pm5_UeLNjQCH"
      },
      "execution_count": 12,
      "outputs": []
    },
    {
      "cell_type": "code",
      "source": [
        "print(\"Training shape:\", x_train_scaled.shape)\n",
        "print(\"Testing shape:\", x_test_scaled.shape)"
      ],
      "metadata": {
        "colab": {
          "base_uri": "https://localhost:8080/"
        },
        "id": "vrfHJ0AajQJU",
        "outputId": "88d48c9e-ee90-4812-ae98-8110795ed300"
      },
      "execution_count": 13,
      "outputs": [
        {
          "output_type": "stream",
          "name": "stdout",
          "text": [
            "Training shape: (3500, 11)\n",
            "Testing shape: (1500, 11)\n"
          ]
        }
      ]
    }
  ]
}